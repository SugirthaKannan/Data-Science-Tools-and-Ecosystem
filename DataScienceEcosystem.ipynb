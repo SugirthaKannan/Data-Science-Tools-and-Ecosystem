{
 "cells": [
  {
   "cell_type": "markdown",
   "id": "41461368-ec7b-486f-a54b-52363210e477",
   "metadata": {},
   "source": [
    "# Data Science Tools and Ecosystem"
   ]
  },
  {
   "cell_type": "markdown",
   "id": "3eebc4c8-cdf4-4d4d-a284-3df9f6f7a5d3",
   "metadata": {},
   "source": [
    "In this notebook, Data Science Tools and Ecosystem are summarized."
   ]
  },
  {
   "cell_type": "markdown",
   "id": "5529447d-ce7e-49c4-952f-466c37328b94",
   "metadata": {},
   "source": [
    "Some of the popular languages that Data Scientists use are:\n",
    "\n",
    "1. Python\n",
    "2. R\n",
    "3. SQL\n",
    "4. Julia\n",
    "5. Java"
   ]
  },
  {
   "cell_type": "markdown",
   "id": "920aac5d-b644-4fdc-8d44-f17863df3a18",
   "metadata": {},
   "source": [
    "Some of the commonly used libraries used by Data Scientists include:\n",
    "\n",
    "1. NumPy\n",
    "2. Pandas\n",
    "3. Matplotlib\n",
    "4. Scikit-learn\n",
    "5. TensorFlow\n"
   ]
  },
  {
   "cell_type": "markdown",
   "id": "98b1b402-b39d-4b90-8410-4ee4961d4815",
   "metadata": {},
   "source": [
    "| Data Science Tools      |\n",
    "|-------------------------|\n",
    "| Jupyter Notebook        |\n",
    "| RStudio                 |\n",
    "| Apache Zeppelin         |\n"
   ]
  },
  {
   "cell_type": "markdown",
   "id": "b7492498-501c-4a28-8f90-a5b6218ee52d",
   "metadata": {},
   "source": [
    "**Objectives:**\n",
    "\n",
    "- List popular languages for Data Science\n",
    "- Identify commonly used libraries in Data Science\n",
    "- Demonstrate examples of arithmetic operations in Python\n",
    "- Convert minutes to hours using Python code\n",
    "- Summarize tools used in Data Science\n"
   ]
  },
  {
   "cell_type": "markdown",
   "id": "a5483758-e62a-4b93-aeda-7dffd6765aa1",
   "metadata": {},
   "source": [
    "## Author\n",
    "\n",
    "Sugirtha\n"
   ]
  },
  {
   "cell_type": "markdown",
   "id": "91e71612-d0e7-4b4a-81a1-0abfda1f063f",
   "metadata": {},
   "source": [
    "### Below are a few examples of evaluating arithmetic expressions in Python.\n"
   ]
  },
  {
   "cell_type": "code",
   "execution_count": null,
   "id": "3426b291-97e9-4052-8c9f-97f81185c1a6",
   "metadata": {},
   "outputs": [],
   "source": []
  },
  {
   "cell_type": "code",
   "execution_count": null,
   "id": "21a48b52-870e-4a4d-8570-b810b15fe008",
   "metadata": {},
   "outputs": [],
   "source": []
  },
  {
   "cell_type": "code",
   "execution_count": null,
   "id": "394ff57b-9170-4051-bc5b-1a60d4a34a8f",
   "metadata": {},
   "outputs": [],
   "source": []
  },
  {
   "cell_type": "code",
   "execution_count": null,
   "id": "6525c46c-5890-47c1-bfa3-e5d7a8cd7e89",
   "metadata": {},
   "outputs": [],
   "source": []
  }
 ],
 "metadata": {
  "kernelspec": {
   "display_name": "Python 3 (ipykernel)",
   "language": "python",
   "name": "python3"
  },
  "language_info": {
   "codemirror_mode": {
    "name": "ipython",
    "version": 3
   },
   "file_extension": ".py",
   "mimetype": "text/x-python",
   "name": "python",
   "nbconvert_exporter": "python",
   "pygments_lexer": "ipython3",
   "version": "3.11.9"
  }
 },
 "nbformat": 4,
 "nbformat_minor": 5
}
